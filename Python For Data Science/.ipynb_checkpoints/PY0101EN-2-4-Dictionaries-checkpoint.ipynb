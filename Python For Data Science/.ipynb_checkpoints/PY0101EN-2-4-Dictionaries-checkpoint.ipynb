{
 "cells": [
  {
   "cell_type": "markdown",
   "id": "eca4a3b3-b1a6-4551-9a0d-1fbb54b0c274",
   "metadata": {},
   "source": [
    "<center>\n",
    "    <img src=\"https://cf-courses-data.s3.us.cloud-object-storage.appdomain.cloud/IBMDeveloperSkillsNetwork-PY0101EN-SkillsNetwork/IDSNlogo.png\" width=\"300\" alt=\"cognitiveclass.ai logo\">\n",
    "</center>\n",
    "\n",
    "# Dictionaries in Python\n",
    "\n",
    "Estimated time needed: **25** minutes\n",
    "\n",
    "## Objectives\n",
    "\n",
    "After completing this lab you will be able to:\n",
    "\n",
    "*  Create a Dictionary and perform operations on the Dictionary\n"
   ]
  },
  {
   "cell_type": "markdown",
   "id": "d2d6b137-4b8e-46fe-be77-89d50b3ccf99",
   "metadata": {},
   "source": [
    "<h2>Table of Contents</h2>\n",
    "<div class=\"alert alert-block alert-info\" style=\"margin-top: 20px\">\n",
    "    <ul>\n",
    "        <li>\n",
    "            <a href=\"#dic\">Dictionaries</a>\n",
    "            <ul>\n",
    "                <li><a href=\"#content\">What are Dictionaries?</a></li>\n",
    "                <li><a href=\"#keys\">Keys</a></li>\n",
    "            </ul>\n",
    "        </li>\n",
    "        <li>\n",
    "            <a href=\"#quiz\">Quiz on Dictionaries</a>\n",
    "        </li>\n",
    "        <li> \n",
    "            <a href=\"#Scenario\">Scenario</a>\n",
    "        </li>\n",
    "    </ul>\n",
    "\n",
    "</div>\n",
    "\n",
    "<hr>\n"
   ]
  },
  {
   "cell_type": "markdown",
   "id": "16d6f5d5-bfe7-40df-996f-19eacbe4d446",
   "metadata": {},
   "source": [
    "<a id=\"dic\"></a>\n",
    "## Dictionaries\n"
   ]
  },
  {
   "cell_type": "markdown",
   "id": "30333917-5e62-4cf8-ba41-05ec967cfe6b",
   "metadata": {},
   "source": [
    "<a id=\"content\"></a>\n",
    "## What are Dictionaries?\n"
   ]
  },
  {
   "cell_type": "markdown",
   "id": "010f1135-6137-4820-b4d1-d78166e72010",
   "metadata": {},
   "source": [
    "A dictionary consists of keys and values. It is helpful to compare a dictionary to a list. Instead of being indexed numerically like a list, dictionaries have keys. These keys are the keys that are used to access values within a dictionary.   \n",
    "\n",
    "\n",
    "The best example of a dictionary can be accessing person's detais using the **social security number**.   \n",
    "Here the social security number which is a unique number will be the **key** and the details of the people will be the **values** associated with it.\n"
   ]
  },
  {
   "cell_type": "markdown",
   "id": "1135f3fc-1c5c-42ae-912d-036a610543e1",
   "metadata": {},
   "source": [
    "<img src=\"https://cf-courses-data.s3.us.cloud-object-storage.appdomain.cloud/IBMDeveloperSkillsNetwork-PY0101EN-SkillsNetwork/labs/Module%202/images/DictsList.png\" width=\"650\">\n"
   ]
  },
  {
   "cell_type": "markdown",
   "id": "02254119-b993-405d-9c75-d1c053ff0a4e",
   "metadata": {},
   "source": [
    "### Create a Dictionary and access the elements\n"
   ]
  },
  {
   "cell_type": "markdown",
   "id": "04d957a1-3853-4120-aeee-bc6c59beca43",
   "metadata": {},
   "source": [
    "An example of a Dictionary <code>Dict</code>:\n",
    "Here we are creating a dictionary named **Dict** with he following details\n",
    "\n",
    "* Keys are **key1, key2, key3, key4, key5**.\n",
    "* Values are {1,2,[3,3,3],(4,4,4),5,(0,1):6) corresponding to the keys\n"
   ]
  },
  {
   "cell_type": "code",
   "execution_count": 4,
   "id": "3b33edf4-9d66-4ba3-9569-01f2c354c1fd",
   "metadata": {},
   "outputs": [
    {
     "data": {
      "text/plain": [
       "{'key1': 1,\n",
       " 'key2': '2',\n",
       " 'key3': [3, 3, 3],\n",
       " 'key4': (4, 4, 4),\n",
       " 'key5': 5,\n",
       " (0, 1): 6}"
      ]
     },
     "execution_count": 4,
     "metadata": {},
     "output_type": "execute_result"
    }
   ],
   "source": [
    "# Create the dictionary\n",
    "\n",
    "Dict = {\"key1\": 1, \"key2\": \"2\", \"key3\": [3, 3, 3], \"key4\": (4, 4, 4), ('key5'): 5, (0, 1): 6}\n",
    "Dict"
   ]
  },
  {
   "cell_type": "markdown",
   "id": "f739b4a6-001e-4c4e-81c9-917a0e748821",
   "metadata": {},
   "source": [
    "The keys can be strings:\n"
   ]
  },
  {
   "cell_type": "code",
   "execution_count": 5,
   "id": "49ad59c1-25d2-41ea-a192-fdd8141d0a54",
   "metadata": {},
   "outputs": [
    {
     "data": {
      "text/plain": [
       "1"
      ]
     },
     "execution_count": 5,
     "metadata": {},
     "output_type": "execute_result"
    }
   ],
   "source": [
    "# Access to the value by the key\n",
    "\n",
    "Dict[\"key1\"]"
   ]
  },
  {
   "cell_type": "markdown",
   "id": "f883d68a-9f65-4025-9fb6-64511186027a",
   "metadata": {},
   "source": [
    "Keys can also be any immutable object such as a tuple:\n"
   ]
  },
  {
   "cell_type": "code",
   "execution_count": 6,
   "id": "84475910-a5ca-47b1-ace0-939034c19924",
   "metadata": {},
   "outputs": [
    {
     "data": {
      "text/plain": [
       "6"
      ]
     },
     "execution_count": 6,
     "metadata": {},
     "output_type": "execute_result"
    }
   ],
   "source": [
    "# Access to the value by the key\n",
    "\n",
    "Dict[(0, 1)]"
   ]
  },
  {
   "cell_type": "markdown",
   "id": "55abe39e-ff09-45fa-89af-6ea870693df3",
   "metadata": {},
   "source": [
    "Each key is separated from its value by a colon \"<code>:</code>\".  Commas separate the items, and the whole dictionary is enclosed in curly braces. An empty dictionary without any items is written with just two curly braces, like this  \"<code>{}</code>\".\n"
   ]
  },
  {
   "cell_type": "code",
   "execution_count": 7,
   "id": "667f4f4a-532c-430a-85ef-e3bc0e6168e2",
   "metadata": {},
   "outputs": [
    {
     "data": {
      "text/plain": [
       "{'Thriller': '1982',\n",
       " 'Back in Black': '1980',\n",
       " 'The Dark Side of the Moon': '1973',\n",
       " 'The Bodyguard': '1992',\n",
       " 'Bat Out of Hell': '1977',\n",
       " 'Their Greatest Hits (1971-1975)': '1976',\n",
       " 'Saturday Night Fever': '1977',\n",
       " 'Rumours': '1977'}"
      ]
     },
     "execution_count": 7,
     "metadata": {},
     "output_type": "execute_result"
    }
   ],
   "source": [
    "# Create a sample dictionary\n",
    "\n",
    "release_year_dict = {\"Thriller\": \"1982\", \"Back in Black\": \"1980\", \\\n",
    "                    \"The Dark Side of the Moon\": \"1973\", \"The Bodyguard\": \"1992\", \\\n",
    "                    \"Bat Out of Hell\": \"1977\", \"Their Greatest Hits (1971-1975)\": \"1976\", \\\n",
    "                    \"Saturday Night Fever\": \"1977\", \"Rumours\": \"1977\"}\n",
    "release_year_dict"
   ]
  },
  {
   "cell_type": "markdown",
   "id": "1f51eca1-8134-45e5-8253-acd72ea8d313",
   "metadata": {},
   "source": [
    "In summary, like a list, a dictionary holds a sequence of elements. Each element is represented by a key and its corresponding value. Dictionaries are created with two curly braces containing keys and values separated by a colon. For every key, there can only be one single value, however,  multiple keys can hold the same value. Keys can only be strings, numbers, or tuples, but values can be any data type.\n"
   ]
  },
  {
   "cell_type": "markdown",
   "id": "23237f8c-de96-41f8-81b6-2c5bb22bf4b6",
   "metadata": {},
   "source": [
    "It is helpful to visualize the dictionary as a table, as in the following image. The first column represents the keys, the second column represents the values.\n"
   ]
  },
  {
   "cell_type": "markdown",
   "id": "411f042a-1566-4ca1-9fe1-c30fa87a2b93",
   "metadata": {},
   "source": [
    "<img src=\"https://cf-courses-data.s3.us.cloud-object-storage.appdomain.cloud/IBMDeveloperSkillsNetwork-PY0101EN-SkillsNetwork/labs/Module%202/images/DictsStructure.png\" width=\"650\">\n"
   ]
  },
  {
   "cell_type": "markdown",
   "id": "28e74779-d6bf-4df4-94f5-961b14250658",
   "metadata": {},
   "source": [
    "<a id=\"keys\"></a>\n",
    "## Keys\n"
   ]
  },
  {
   "cell_type": "markdown",
   "id": "041e880c-2316-4bb5-9765-883274cc6646",
   "metadata": {},
   "source": [
    "You can retrieve the values based on the names:\n"
   ]
  },
  {
   "cell_type": "code",
   "execution_count": 8,
   "id": "1262bfd4-693a-4559-88e2-803c2ed8d71f",
   "metadata": {},
   "outputs": [
    {
     "data": {
      "text/plain": [
       "'1982'"
      ]
     },
     "execution_count": 8,
     "metadata": {},
     "output_type": "execute_result"
    }
   ],
   "source": [
    "# Get value by keys\n",
    "\n",
    "release_year_dict['Thriller'] "
   ]
  },
  {
   "cell_type": "markdown",
   "id": "b53f99fe-3649-4253-a722-92e7953eae84",
   "metadata": {},
   "source": [
    "This corresponds to:\n"
   ]
  },
  {
   "cell_type": "markdown",
   "id": "5a036d8f-c3bc-4ce4-919f-166eb1ce4121",
   "metadata": {},
   "source": [
    "<img src=\"https://cf-courses-data.s3.us.cloud-object-storage.appdomain.cloud/IBMDeveloperSkillsNetwork-PY0101EN-SkillsNetwork/labs/Module%202/images/DictsKeyOne.png\" width=\"500\">\n"
   ]
  },
  {
   "cell_type": "markdown",
   "id": "ce797676-5e8f-4078-bb97-496a61424cdf",
   "metadata": {},
   "source": [
    "Similarly for <b>The Bodyguard</b>\n"
   ]
  },
  {
   "cell_type": "code",
   "execution_count": 9,
   "id": "7d25ceb4-7b85-4cdb-9da5-862df8496bbc",
   "metadata": {},
   "outputs": [
    {
     "data": {
      "text/plain": [
       "'1992'"
      ]
     },
     "execution_count": 9,
     "metadata": {},
     "output_type": "execute_result"
    }
   ],
   "source": [
    "# Get value by key\n",
    "\n",
    "release_year_dict['The Bodyguard'] "
   ]
  },
  {
   "cell_type": "markdown",
   "id": "b1e9e23a-29ab-4099-8457-5dd5a8f2ea78",
   "metadata": {},
   "source": [
    "<img src=\"https://cf-courses-data.s3.us.cloud-object-storage.appdomain.cloud/IBMDeveloperSkillsNetwork-PY0101EN-SkillsNetwork/labs/Module%202/images/DictsKeyTwo.png\" width=\"500\">\n"
   ]
  },
  {
   "cell_type": "markdown",
   "id": "9e2113db-5700-47d2-9022-2c28288f6fa1",
   "metadata": {},
   "source": [
    "Now let us retrieve the keys of the dictionary using the method <code>keys()</code>:\n"
   ]
  },
  {
   "cell_type": "code",
   "execution_count": 10,
   "id": "9997dc4c-452c-4cda-ae91-b4d4d464372f",
   "metadata": {},
   "outputs": [
    {
     "data": {
      "text/plain": [
       "dict_keys(['Thriller', 'Back in Black', 'The Dark Side of the Moon', 'The Bodyguard', 'Bat Out of Hell', 'Their Greatest Hits (1971-1975)', 'Saturday Night Fever', 'Rumours'])"
      ]
     },
     "execution_count": 10,
     "metadata": {},
     "output_type": "execute_result"
    }
   ],
   "source": [
    "# Get all the keys in dictionary\n",
    "\n",
    "release_year_dict.keys() "
   ]
  },
  {
   "cell_type": "markdown",
   "id": "03c88957-5eef-417e-ab44-cf9660c30cd1",
   "metadata": {},
   "source": [
    "You can retrieve the values using the method  <code>values()</code>:\n"
   ]
  },
  {
   "cell_type": "code",
   "execution_count": 11,
   "id": "f119541b-5bbe-402b-a9a2-9ffbd7b770f8",
   "metadata": {},
   "outputs": [
    {
     "data": {
      "text/plain": [
       "dict_values(['1982', '1980', '1973', '1992', '1977', '1976', '1977', '1977'])"
      ]
     },
     "execution_count": 11,
     "metadata": {},
     "output_type": "execute_result"
    }
   ],
   "source": [
    "# Get all the values in dictionary\n",
    "\n",
    "release_year_dict.values() "
   ]
  },
  {
   "cell_type": "markdown",
   "id": "77ab5489-5e71-4a00-9d0d-4a0930f1e0ae",
   "metadata": {},
   "source": [
    "We can add an entry:\n"
   ]
  },
  {
   "cell_type": "code",
   "execution_count": 12,
   "id": "1a552ba9-c21c-4b44-89d0-24aedd36d86e",
   "metadata": {},
   "outputs": [
    {
     "data": {
      "text/plain": [
       "{'Thriller': '1982',\n",
       " 'Back in Black': '1980',\n",
       " 'The Dark Side of the Moon': '1973',\n",
       " 'The Bodyguard': '1992',\n",
       " 'Bat Out of Hell': '1977',\n",
       " 'Their Greatest Hits (1971-1975)': '1976',\n",
       " 'Saturday Night Fever': '1977',\n",
       " 'Rumours': '1977',\n",
       " 'Graduation': '2007'}"
      ]
     },
     "execution_count": 12,
     "metadata": {},
     "output_type": "execute_result"
    }
   ],
   "source": [
    "# Append value with key into dictionary\n",
    "\n",
    "release_year_dict['Graduation'] = '2007'\n",
    "release_year_dict"
   ]
  },
  {
   "cell_type": "markdown",
   "id": "3df68cd4-3449-4082-9ded-640a98845cfd",
   "metadata": {},
   "source": [
    "We can delete an entry:\n"
   ]
  },
  {
   "cell_type": "code",
   "execution_count": 13,
   "id": "3c47c9c9-4f90-4ca1-814c-635598f2f305",
   "metadata": {},
   "outputs": [
    {
     "data": {
      "text/plain": [
       "{'Back in Black': '1980',\n",
       " 'The Dark Side of the Moon': '1973',\n",
       " 'The Bodyguard': '1992',\n",
       " 'Bat Out of Hell': '1977',\n",
       " 'Their Greatest Hits (1971-1975)': '1976',\n",
       " 'Saturday Night Fever': '1977',\n",
       " 'Rumours': '1977'}"
      ]
     },
     "execution_count": 13,
     "metadata": {},
     "output_type": "execute_result"
    }
   ],
   "source": [
    "# Delete entries by key\n",
    "\n",
    "del(release_year_dict['Thriller'])\n",
    "del(release_year_dict['Graduation'])\n",
    "release_year_dict"
   ]
  },
  {
   "cell_type": "markdown",
   "id": "1b6af459-1f1f-45a6-81e2-02f99884246e",
   "metadata": {},
   "source": [
    "We can verify if an element is in the dictionary:\n"
   ]
  },
  {
   "cell_type": "code",
   "execution_count": 14,
   "id": "47547f1b-1df2-4bf3-9fd0-4d1c5dd6c32a",
   "metadata": {},
   "outputs": [
    {
     "data": {
      "text/plain": [
       "True"
      ]
     },
     "execution_count": 14,
     "metadata": {},
     "output_type": "execute_result"
    }
   ],
   "source": [
    "# Verify the key is in the dictionary\n",
    "\n",
    "'The Bodyguard' in release_year_dict"
   ]
  },
  {
   "cell_type": "markdown",
   "id": "305e0cb6-9d09-4edc-bf9a-13b2606a1c52",
   "metadata": {},
   "source": [
    "<hr>\n"
   ]
  },
  {
   "cell_type": "markdown",
   "id": "538e8b54-d320-4ff7-aa52-9e8bf5f6c39d",
   "metadata": {},
   "source": [
    "<a id=\"quiz\"></a>\n",
    "## Quiz on Dictionaries\n"
   ]
  },
  {
   "cell_type": "markdown",
   "id": "a83acda9-ab1b-4709-862a-734242a634a0",
   "metadata": {},
   "source": [
    "<b>You will need this dictionary for the next two questions:</b>\n"
   ]
  },
  {
   "cell_type": "code",
   "execution_count": 15,
   "id": "5a5bcbfb-24a9-4b98-b274-f4fab11d762b",
   "metadata": {},
   "outputs": [
    {
     "data": {
      "text/plain": [
       "{'The Bodyguard': '1992', 'Saturday Night Fever': '1977'}"
      ]
     },
     "execution_count": 15,
     "metadata": {},
     "output_type": "execute_result"
    }
   ],
   "source": [
    "# Question sample dictionary\n",
    "\n",
    "soundtrack_dic = {\"The Bodyguard\":\"1992\", \"Saturday Night Fever\":\"1977\"}\n",
    "soundtrack_dic "
   ]
  },
  {
   "cell_type": "markdown",
   "id": "9dc89477-e589-4c81-972d-3603f6571461",
   "metadata": {},
   "source": [
    "a) In the dictionary <code>soundtrack_dic</code> what are the keys ?\n"
   ]
  },
  {
   "cell_type": "code",
   "execution_count": 16,
   "id": "4d1a85e6-5f9d-4c75-9061-93d67db3fbc1",
   "metadata": {},
   "outputs": [
    {
     "data": {
      "text/plain": [
       "dict_keys(['The Bodyguard', 'Saturday Night Fever'])"
      ]
     },
     "execution_count": 16,
     "metadata": {},
     "output_type": "execute_result"
    }
   ],
   "source": [
    "# Write your code below and press Shift+Enter to execute\n",
    "soundtrack_dic.keys()"
   ]
  },
  {
   "cell_type": "markdown",
   "id": "0ed32092-b2c7-4a5c-b6fc-14f5564a7a30",
   "metadata": {},
   "source": [
    "<details><summary>Click here for the solution</summary>\n",
    "\n",
    "```python\n",
    "soundtrack_dic.keys() # The Keys \"The Bodyguard\" and \"Saturday Night Fever\" \n",
    "\n",
    "```\n",
    "\n",
    "</details>\n"
   ]
  },
  {
   "cell_type": "markdown",
   "id": "541c1a62-b105-4e0a-b7c3-7d41d615caba",
   "metadata": {},
   "source": [
    "b) In the dictionary <code>soundtrack_dic</code> what are the values ?\n"
   ]
  },
  {
   "cell_type": "code",
   "execution_count": 18,
   "id": "8f2ca055-573a-40de-b35d-1b26d2704531",
   "metadata": {},
   "outputs": [
    {
     "data": {
      "text/plain": [
       "dict_values(['1992', '1977'])"
      ]
     },
     "execution_count": 18,
     "metadata": {},
     "output_type": "execute_result"
    }
   ],
   "source": [
    "# Write your code below and press Shift+Enter to execute\n",
    "soundtrack_dic.values()"
   ]
  },
  {
   "cell_type": "markdown",
   "id": "64ea985c-b24e-4516-bc61-bdc170679f75",
   "metadata": {},
   "source": [
    "<details><summary>Click here for the solution</summary>\n",
    "\n",
    "```python\n",
    "soundtrack_dic.values() # The values are \"1992\" and \"1977\"\n",
    "\n",
    "```\n",
    "\n",
    "</details>\n"
   ]
  },
  {
   "cell_type": "markdown",
   "id": "f6b8cb29-8d20-4921-8e3f-ce1607b12d1f",
   "metadata": {},
   "source": [
    "<hr>\n"
   ]
  },
  {
   "cell_type": "markdown",
   "id": "33d8ae62-8b80-404e-9a6c-8e7a1e5b3c55",
   "metadata": {},
   "source": [
    "<b>You will need this dictionary for the following questions:</b>\n"
   ]
  },
  {
   "cell_type": "markdown",
   "id": "09d9a8a7-fcca-4ac1-943d-9122498e7a86",
   "metadata": {},
   "source": [
    "The Albums <b>Back in Black</b>, <b>The Bodyguard</b> and <b>Thriller</b> have the following music recording sales in millions 50, 50 and 65 respectively:\n"
   ]
  },
  {
   "cell_type": "markdown",
   "id": "2e282155-32b7-4a14-81cb-843139cc8910",
   "metadata": {},
   "source": [
    "a) Create a dictionary <code>album_sales_dict</code> where the keys are the album name and the sales in millions are the values.\n"
   ]
  },
  {
   "cell_type": "code",
   "execution_count": 19,
   "id": "296be6ea-c1c9-4938-9841-816088e63b22",
   "metadata": {},
   "outputs": [],
   "source": [
    "# Write your code below and press Shift+Enter to execute\n",
    "album_sales_dict = {\"Back in Black\": 50, \"The BodyGuard\": 50, \"Thriller\": 65}"
   ]
  },
  {
   "cell_type": "markdown",
   "id": "15b05e6c-ca96-43db-a857-42ff12310d50",
   "metadata": {},
   "source": [
    "<details><summary>Click here for the solution</summary>\n",
    "\n",
    "```python\n",
    "album_sales_dict = {\"The Bodyguard\":50, \"Back in Black\":50, \"Thriller\":65}\n",
    "\n",
    "```\n",
    "\n",
    "</details>\n"
   ]
  },
  {
   "cell_type": "markdown",
   "id": "f6dcc3de-7eeb-457e-b6d7-c78df3b20e75",
   "metadata": {},
   "source": [
    "b) Use the dictionary to find the total sales of <b>Thriller</b>:\n"
   ]
  },
  {
   "cell_type": "code",
   "execution_count": 20,
   "id": "ea681546-4885-4d62-a704-a8eae6b9d80f",
   "metadata": {},
   "outputs": [
    {
     "data": {
      "text/plain": [
       "65"
      ]
     },
     "execution_count": 20,
     "metadata": {},
     "output_type": "execute_result"
    }
   ],
   "source": [
    "# Write your code below and press Shift+Enter to execute\n",
    "album_sales_dict[\"Thriller\"]"
   ]
  },
  {
   "cell_type": "markdown",
   "id": "2eefdc8b-63bb-46e0-8f09-6928150320f8",
   "metadata": {},
   "source": [
    "<details><summary>Click here for the solution</summary>\n",
    "\n",
    "```python\n",
    "album_sales_dict[\"Thriller\"]\n",
    "\n",
    "```\n",
    "\n",
    "</details>\n"
   ]
  },
  {
   "cell_type": "markdown",
   "id": "243760c9-af21-4aae-8066-e5a79357f49b",
   "metadata": {},
   "source": [
    "c) Find the names of the albums from the dictionary using the method <code>keys()</code>:\n"
   ]
  },
  {
   "cell_type": "code",
   "execution_count": 21,
   "id": "816dc787-f0a8-45f0-8bc2-23f78647d8ef",
   "metadata": {},
   "outputs": [
    {
     "data": {
      "text/plain": [
       "dict_keys(['Back in Black', 'The BodyGuard', 'Thriller'])"
      ]
     },
     "execution_count": 21,
     "metadata": {},
     "output_type": "execute_result"
    }
   ],
   "source": [
    "# Write your code below and press Shift+Enter to execute\n",
    "album_sales_dict.keys()"
   ]
  },
  {
   "cell_type": "markdown",
   "id": "ae4c77b2-c992-4609-bd2e-5d79e08c6732",
   "metadata": {},
   "source": [
    "<details><summary>Click here for the solution</summary>\n",
    "\n",
    "```python\n",
    "album_sales_dict.keys()\n",
    "\n",
    "```\n",
    "\n",
    "</details>\n"
   ]
  },
  {
   "cell_type": "markdown",
   "id": "fc428616-93b9-4200-93c4-679df09edef4",
   "metadata": {},
   "source": [
    "d) Find the values of the recording sales from the dictionary using the method <code>values</code>:\n"
   ]
  },
  {
   "cell_type": "code",
   "execution_count": 22,
   "id": "b871df0e-712e-4c46-abdc-e641b166ce3f",
   "metadata": {},
   "outputs": [
    {
     "data": {
      "text/plain": [
       "dict_values([50, 50, 65])"
      ]
     },
     "execution_count": 22,
     "metadata": {},
     "output_type": "execute_result"
    }
   ],
   "source": [
    "# Write your code below and press Shift+Enter to execute\n",
    "album_sales_dict.values()"
   ]
  },
  {
   "cell_type": "markdown",
   "id": "0a8c40c1-d4ef-4044-b615-e4374400f60a",
   "metadata": {},
   "source": [
    "<details><summary>Click here for the solution</summary>\n",
    "\n",
    "```python\n",
    "album_sales_dict.values()\n",
    "\n",
    "```\n",
    "\n",
    "</details>\n"
   ]
  },
  {
   "cell_type": "markdown",
   "id": "9d9a96aa-f1a3-4af1-8586-a95d4e58fa8d",
   "metadata": {},
   "source": [
    "<center>\n",
    "\n",
    "# Scenario:Inventory Store\n",
    "    \n",
    "</center>\n"
   ]
  },
  {
   "cell_type": "markdown",
   "id": "a4ba069f-3c7e-44d0-b9c0-8143fb55a9cb",
   "metadata": {},
   "source": [
    "The inventory store scenario project utilizes a dictionary-based approach to develop a robust system for managing and tracking inventory in a retail store.\n",
    "<br>\n",
    "**Note:- You will be working with two product details.**\n"
   ]
  },
  {
   "cell_type": "markdown",
   "id": "63276cf7-8c4d-4ddc-a5f5-d41d22306936",
   "metadata": {},
   "source": [
    "## Task-1 Create an empty dictionary \n"
   ]
  },
  {
   "cell_type": "markdown",
   "id": "88dea444-8ce4-43be-9859-3b2e5c3ba1b3",
   "metadata": {},
   "source": [
    "\n",
    "First you need to create an empty dictionary, where you will be storing the product details.\n"
   ]
  },
  {
   "cell_type": "code",
   "execution_count": 25,
   "id": "f822716b-a33c-4b19-8305-bb9c4af6c45b",
   "metadata": {},
   "outputs": [],
   "source": [
    "#Type your code here\n",
    "product_details = {}"
   ]
  },
  {
   "cell_type": "markdown",
   "id": "078c3943-bd5a-4ff9-8aea-ff320996e241",
   "metadata": {},
   "source": [
    "<details> <summary>Click here for the solution</summary>\n",
    "\n",
    "```python\n",
    "\n",
    "inventory ={}\n",
    "\n",
    "```\n",
    "\n",
    "</details>\n"
   ]
  },
  {
   "cell_type": "markdown",
   "id": "b73d35ec-7a37-41d1-a174-fa504a2df602",
   "metadata": {},
   "source": [
    "## Task-2 Store the first product details in variable\n",
    "* Product Name= Mobile phone\n",
    "* Product Quantity= 5\n",
    "* Product price= 20000\n",
    "* Product Release Year= 2020\n"
   ]
  },
  {
   "cell_type": "code",
   "execution_count": 27,
   "id": "161ae33d-3789-40dc-99c2-a5c30c2f9c1a",
   "metadata": {},
   "outputs": [],
   "source": [
    "#type your code here\n",
    "No1_Product_Name = \"Mobile Phone\"\n",
    "No1_Product_Quantity = 5\n",
    "No1_Product_Price = 20000\n",
    "No1_Product_Release_Year = 2020"
   ]
  },
  {
   "cell_type": "markdown",
   "id": "0a623b5b-7072-41c2-8794-505cab81f6cc",
   "metadata": {},
   "source": [
    "<details> <summary>Click here for the solution</summary>\n",
    "\n",
    "```python\n",
    "ProductNo1 = \"Mobile Phone\"\n",
    "ProductNo1_quantity = 5\n",
    "ProductNo1_price = 20000\n",
    "ProductNo1_releaseYear= 2020\n",
    "```\n",
    "\n",
    "</details>\n"
   ]
  },
  {
   "cell_type": "markdown",
   "id": "1bae55d6-00d4-4f69-a362-51c8f201e7a1",
   "metadata": {},
   "source": [
    "## Task-3 Add the details in inventory\n"
   ]
  },
  {
   "cell_type": "code",
   "execution_count": 28,
   "id": "67768618-ca87-4c07-b7d9-8305af67c070",
   "metadata": {},
   "outputs": [],
   "source": [
    "#Type your code here\n",
    "product_details[\"No1 Product Name\"] = No1_Product_Name\n",
    "product_details[\"No1 Product Quantity\"] = No1_Product_Quantity\n",
    "product_details[\"No1 Product Price\"] = No1_Product_Price\n",
    "product_details[\"No1 Product Release Year\"] = No1_Product_Release_Year"
   ]
  },
  {
   "cell_type": "markdown",
   "id": "27400474-cf23-4b18-9b5e-e447dcbdfeb6",
   "metadata": {},
   "source": [
    "<details> <summary>Click here for the solution</summary>\n",
    "\n",
    "```python\n",
    "\n",
    "inventory[\"ProductNo1\"]= ProductNo1\n",
    "inventory[\"ProductNo1_quantity\"]= ProductNo1_quantity\n",
    "inventory[\"ProductNo1_price\"]= ProductNo1_price\n",
    "inventory[\"ProductNo1_releaseYear\"]=ProductNo1_releaseYear\n",
    "\n",
    "```\n",
    "\n",
    "</details>\n"
   ]
  },
  {
   "cell_type": "markdown",
   "id": "7e6873c0-b40b-4f09-beac-dea32bdc7731",
   "metadata": {},
   "source": [
    "## Task-4 Store the second product details in a variable.\n",
    "* Product Name= \"Laptop\"\n",
    "* Product Quantity= 10\n",
    "* Product price = 50000\n",
    "* Product Release Year= 2023\n"
   ]
  },
  {
   "cell_type": "code",
   "execution_count": 29,
   "id": "0cac52bf-2bf5-4b91-a24c-fac51fb96a45",
   "metadata": {},
   "outputs": [],
   "source": [
    "#type your code here\n",
    "No2_Product_Name = \"Laptop\"\n",
    "No2_Product_Quantity = 10\n",
    "No2_Product_Price = 50000\n",
    "No2_Product_Release_Year = 2023"
   ]
  },
  {
   "cell_type": "markdown",
   "id": "c1dcac85-ffcb-4834-b5eb-199e0e71cd2e",
   "metadata": {},
   "source": [
    "<details> <summary>Click here for the solution</summary>\n",
    "\n",
    "```python\n",
    "\n",
    "ProductNo2 = \"Laptop\"\n",
    "ProductNo2_quantity = 10\n",
    "ProductNo2_price = 50000\n",
    "ProductNo2_releaseYear= 2023\n",
    "\n",
    "```\n",
    "\n",
    "</details>\n"
   ]
  },
  {
   "cell_type": "markdown",
   "id": "d6dd397e-30d7-41b2-8311-2d55e820844c",
   "metadata": {},
   "source": [
    "## Task-5 Add the item detail into the inventory.\n"
   ]
  },
  {
   "cell_type": "code",
   "execution_count": 30,
   "id": "43477456-8427-46dd-b8a8-1a6792308245",
   "metadata": {},
   "outputs": [],
   "source": [
    "#type your code here\n",
    "product_details[\"No2 Product Name\"] = No2_Product_Name\n",
    "product_details[\"No2 Product Quantity\"] = No2_Product_Quantity\n",
    "product_details[\"No2 Product Price\"] = No2_Product_Price\n",
    "product_details[\"No2 Product Release Year\"] = No2_Product_Release_Year"
   ]
  },
  {
   "cell_type": "markdown",
   "id": "2420f90e-3897-4601-9fae-8bbb1cf51438",
   "metadata": {},
   "source": [
    "<details> <summary>Click here for the solution</summary>\n",
    "\n",
    "```python\n",
    "\n",
    "inventory[\"ProductNo2\"]= ProductNo2\n",
    "inventory[\"ProductNo2_quantity\"]= ProductNo2_quantity\n",
    "inventory[\"ProductNo2_price\"]= ProductNo2_price\n",
    "inventory[\"ProductNo2_releaseYear\"]=ProductNo2_releaseYear\n",
    "\n",
    "```\n",
    "\n",
    "</details>\n"
   ]
  },
  {
   "cell_type": "markdown",
   "id": "f37204f4-eb02-40f3-9c0f-f849edc0d88f",
   "metadata": {},
   "source": [
    "## Task-6 Display the Products present in the inventory\n"
   ]
  },
  {
   "cell_type": "markdown",
   "id": "12346fba-cac6-446f-b1d6-7ae1cbb8e54e",
   "metadata": {},
   "source": [
    "Use print statement for displaying the products\n"
   ]
  },
  {
   "cell_type": "code",
   "execution_count": 32,
   "id": "a264713c-7e76-4e08-b677-ac6eb9a936f2",
   "metadata": {},
   "outputs": [
    {
     "data": {
      "text/plain": [
       "{'No1 Product Name': 'Mobile Phone',\n",
       " 'No1 Product Quantity': 5,\n",
       " 'No1 Product Price': 20000,\n",
       " 'No1 Product Release Year': 2020,\n",
       " 'No2 Product Name': 'Laptop',\n",
       " 'No2 Product Quantity': 10,\n",
       " 'No2 Product Price': 50000,\n",
       " 'No2 Product Release Year': 2023}"
      ]
     },
     "execution_count": 32,
     "metadata": {},
     "output_type": "execute_result"
    }
   ],
   "source": [
    "#type your code here\n",
    "product_details"
   ]
  },
  {
   "cell_type": "markdown",
   "id": "1e7beb82-397e-41e8-8cdf-d298eee55691",
   "metadata": {},
   "source": [
    "<details> <summary>Click here for the solution</summary>\n",
    "\n",
    "```python\n",
    "\n",
    "print(inventory)\n",
    "\n",
    "```\n",
    "\n",
    "</details>\n"
   ]
  },
  {
   "cell_type": "markdown",
   "id": "b729162b-a484-419c-8b0d-1fb611f6c1bd",
   "metadata": {},
   "source": [
    "## Task-7 Check if `ProductNo1_releaseYear` and `ProductNo2_releaseYear` is in the inventory\n"
   ]
  },
  {
   "cell_type": "code",
   "execution_count": 33,
   "id": "501eb819-e96d-4205-ac95-ed714b055483",
   "metadata": {},
   "outputs": [
    {
     "name": "stdout",
     "output_type": "stream",
     "text": [
      "True\n",
      "True\n"
     ]
    }
   ],
   "source": [
    "#Type your code here\n",
    "print(\"No1 Product Release Year\" in product_details)\n",
    "print(\"No2 Product Release Year\" in product_details)"
   ]
  },
  {
   "cell_type": "markdown",
   "id": "c370a037-9741-4b26-b6ba-73e46056b31d",
   "metadata": {},
   "source": [
    "<details> <summary>Click here for the solution</summary>\n",
    "\n",
    "```python\n",
    "\n",
    "\"ProductNo1_releaseYear\" in inventory\n",
    "\"ProductNo2_releaseYear\" in inventory\n",
    "\n",
    "```\n",
    "\n",
    "</details>\n"
   ]
  },
  {
   "cell_type": "markdown",
   "id": "1b64aa90-b645-409c-bc1b-b68e597d7454",
   "metadata": {},
   "source": [
    "**As in inventory `Release year` is not required, let's delete it.**\n"
   ]
  },
  {
   "cell_type": "markdown",
   "id": "589e8435-d9a8-4c64-801e-9e6d5992c2dc",
   "metadata": {},
   "source": [
    "## Task-8 Delete release year of both the products from the inventory\n"
   ]
  },
  {
   "cell_type": "code",
   "execution_count": 34,
   "id": "95acfb84-87d4-4230-97b3-819e73ac5d79",
   "metadata": {},
   "outputs": [],
   "source": [
    "#Type your code here\n",
    "del(product_details[\"No1 Product Release Year\"])\n",
    "del(product_details[\"No2 Product Release Year\"])"
   ]
  },
  {
   "cell_type": "markdown",
   "id": "32cd17dc-f410-4c9b-9d29-d0bb5b035ee3",
   "metadata": {},
   "source": [
    "\n",
    "<details> <summary>Click here for the solution</summary>\n",
    "\n",
    "```python\n",
    "\n",
    "del(inventory[\"ProductNo1_releaseYear\"])\n",
    "del(inventory[\"ProductNo2_releaseYear\"])\n",
    "\n",
    "```\n",
    "\n",
    "</details>\n"
   ]
  },
  {
   "cell_type": "markdown",
   "id": "2cea3411-0649-4b3a-a294-eb2f424fd0e7",
   "metadata": {},
   "source": [
    "<hr>\n",
    "<h2>The last exercise!</h2>\n",
    "<p>Congratulations, you have completed your first lesson and hands-on lab in Python. \n",
    "<hr>\n"
   ]
  },
  {
   "cell_type": "markdown",
   "id": "986f16b6-2478-4013-becd-b33dfb55a484",
   "metadata": {},
   "source": [
    "## Author\n",
    "\n",
    "<a href=\"https://www.linkedin.com/in/joseph-s-50398b136/?utm_medium=Exinfluencer&utm_source=Exinfluencer&utm_content=000026UJ&utm_term=10006555&utm_id=NA-SkillsNetwork-Channel-SkillsNetworkCoursesIBMDeveloperSkillsNetworkPY0101ENSkillsNetwork19487395-2021-01-01\">Joseph Santarcangelo</a>\n",
    "\n",
    "## Other contributors\n",
    "\n",
    "<a href=\"https://www.linkedin.com/in/jiahui-mavis-zhou-a4537814a?utm_medium=Exinfluencer&utm_source=Exinfluencer&utm_content=000026UJ&utm_term=10006555&utm_id=NA-SkillsNetwork-Channel-SkillsNetworkCoursesIBMDeveloperSkillsNetworkPY0101ENSkillsNetwork19487395-2021-01-01\">Mavis Zhou</a>\n",
    "\n",
    "## Change Log\n",
    "\n",
    "| Date (YYYY-MM-DD) | Version | Changed By    | Change Description                                                  |\n",
    "| ----------------- | ------- | ------------- | ------------------------------------------------------------------- |\n",
    "| 2023-05-11        |  2.3    | Akansha yadav | Updated lab with scenario                                           |\n",
    "|  2022-01-10        | 2.2     | Malika Singla | Removed the readme for GitShare                                     |\n",
    "| 2020-09-09        | 2.1     | Malika Singla | Updated the variable soundtrack_dict to soundtrack_dic in Questions |\n",
    "| 2020-08-26        | 2.0     | Lavanya       | Moved lab to course repo in GitLab                                  |\n",
    "|                   |         |               |                                                                     |\n",
    "|                   |         |               |                                                                     |\n",
    "\n",
    "## <h3 align=\"center\"> © IBM Corporation 2020. All rights reserved. <h3/>\n"
   ]
  },
  {
   "cell_type": "code",
   "execution_count": null,
   "id": "d9c6ca96-6d67-44d8-b180-57da39c321f3",
   "metadata": {},
   "outputs": [],
   "source": []
  }
 ],
 "metadata": {
  "kernelspec": {
   "display_name": "Python 3 (ipykernel)",
   "language": "python",
   "name": "python3"
  },
  "language_info": {
   "codemirror_mode": {
    "name": "ipython",
    "version": 3
   },
   "file_extension": ".py",
   "mimetype": "text/x-python",
   "name": "python",
   "nbconvert_exporter": "python",
   "pygments_lexer": "ipython3",
   "version": "3.11.2"
  }
 },
 "nbformat": 4,
 "nbformat_minor": 4
}
