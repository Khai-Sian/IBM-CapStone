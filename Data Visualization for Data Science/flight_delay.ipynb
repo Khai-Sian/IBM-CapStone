{
 "cells": [
  {
   "cell_type": "code",
   "execution_count": 1,
   "id": "bdd11081",
   "metadata": {},
   "outputs": [],
   "source": [
    "# Import required libraries\n",
    "import pandas as pd\n",
    "import plotly.graph_objects as go\n",
    "import dash\n",
    "from dash import dcc\n",
    "from dash import html\n",
    "from dash.dependencies import Input, Output\n",
    "import plotly.express as px"
   ]
  },
  {
   "cell_type": "code",
   "execution_count": 2,
   "id": "120d35e6",
   "metadata": {},
   "outputs": [],
   "source": [
    "# Read the airline data into pandas dataframe\n",
    "airline_data =  pd.read_csv('https://cf-courses-data.s3.us.cloud-object-storage.appdomain.cloud/IBMDeveloperSkillsNetwork-DV0101EN-SkillsNetwork/Data%20Files/airline_data.csv', \n",
    "                            encoding = \"ISO-8859-1\",\n",
    "                            dtype={'Div1Airport': str, 'Div1TailNum': str, \n",
    "                                   'Div2Airport': str, 'Div2TailNum': str})"
   ]
  },
  {
   "cell_type": "code",
   "execution_count": 5,
   "id": "badc3c8b",
   "metadata": {},
   "outputs": [],
   "source": [
    "# Create a dash application\n",
    "app = dash.Dash(__name__)\n",
    "\n",
    "# Build dash app layout\n",
    "app.layout = html.Div(children = [html.H1(\"Flight Delay Time Statistics\", style = {\"textAlign\": \"center\", \"font-size\": 30, \"color\": \"#503D36\"}),\n",
    "                                 html.Div([\"Input Year: \", dcc.Input(id = \"input-year\", value = \"2010\", type = \"number\",\n",
    "                                                                     style = {\"height\": \"35px\", \"font-size\": 30})],\n",
    "                                         style = {\"font-size\": 30}),\n",
    "                                 html.Br(),\n",
    "                                 html.Br(),\n",
    "                                 html.Div([\n",
    "                                     html.Div(dcc.Graph(id = \"carrier-plot\")),\n",
    "                                     html.Div(dcc.Graph(id = \"weather-plot\"))\n",
    "                                 ],style = {\"display\": \"flex\"}),\n",
    "                                 html.Div([\n",
    "                                     html.Div(dcc.Graph(id = \"nas-plot\")),\n",
    "                                     html.Div(dcc.Graph(id = \"security-plot\"))\n",
    "                                 ],style = {\"display\": \"flex\"}),\n",
    "                                 html.Div(dcc.Graph(id = \"late-plot\"),\n",
    "                                          style = {\"width\": \"65%\"})\n",
    "                                 ])"
   ]
  },
  {
   "cell_type": "code",
   "execution_count": 6,
   "id": "a75a3c42",
   "metadata": {},
   "outputs": [],
   "source": [
    "def compute_info(airline_data, entered_year):\n",
    "    df = airline_data[airline_data[\"Year\"] == int(entered_year)]\n",
    "    \n",
    "    avg_car = df.groupby([\"Month\", \"Reporting_Airline\"])[\"CarrierDelay\"].mean().reset_index()\n",
    "    avg_weather = df.groupby([\"Month\", \"Reporting_Airline\"])[\"WeatherDelay\"].mean().reset_index()\n",
    "    avg_NAS = df.groupby([\"Month\", \"Reporting_Airline\"])[\"NASDelay\"].mean().reset_index()\n",
    "    avg_sec = df.groupby([\"Month\", \"Reporting_Airline\"])[\"SecurityDelay\"].mean().reset_index()\n",
    "    avg_late = df.groupby([\"Month\", \"Reporting_Airline\"])[\"LateAircraftDelay\"].mean().reset_index()\n",
    "    \n",
    "    return avg_car, avg_weather, avg_NAS, avg_sec, avg_late"
   ]
  },
  {
   "cell_type": "code",
   "execution_count": 7,
   "id": "350dabcb",
   "metadata": {},
   "outputs": [],
   "source": [
    "@app.callback(Output(component_id = \"carrier-plot\", component_property = \"figure\"),\n",
    "             Output(component_id = \"weather-plot\", component_property = \"figure\"),\n",
    "             Output(component_id = \"nas-plot\", component_property = \"figure\"),\n",
    "             Output(component_id = \"security-plot\", component_property = \"figure\"),\n",
    "             Output(component_id = \"late-plot\", component_property = \"figure\"),\n",
    "             Input(component_id = \"input-year\", component_property = \"value\"))\n",
    "\n",
    "def get_graph(entered_year):\n",
    "    avg_car, avg_weather, avg_NAS, avg_sec, avg_late = compute_info(airline_data, entered_year)\n",
    "    \n",
    "    carrier_fig = px.line(avg_car, x = \"Month\", y = \"CarrierDelay\", color = \"Reporting_Airline\", title='Average carrier delay time (minutes) by airline')\n",
    "    carrier_fig.update_layout(title = \"Average carrier delay time (minutes) by airline\", xaxis_title = \"Month\", yaxis_title = \"CarrierDelay\")\n",
    "    \n",
    "    weather_fig = px.line(avg_weather, x = \"Month\", y = \"WeatherDelay\", color = \"Reporting_Airline\", title='Average weather delay time (minutes) by airline')\n",
    "    weather_fig.update_layout(title = \"Average weather delay time (minutes) by airline\", xaxis_title = \"Month\", yaxis_title = \"WeatherDelay\")\n",
    "    \n",
    "    nas_fig = px.line(avg_NAS, x = \"Month\", y = \"NASDelay\", color = \"Reporting_Airline\", title='Average NAS delay time (minutes) by airline')\n",
    "    nas_fig.update_layout(title = \"Average NAS delay time (minutes) by airline\", xaxis_title = \"Month\", yaxis_title = \"NASDelay\")\n",
    "    \n",
    "    sec_fig = px.line(avg_sec, x = \"Month\", y = \"SecurityDelay\", color = \"Reporting_Airline\", title='Average security delay time (minutes) by airline')\n",
    "    sec_fig.update_layout(title = \"Average security delay time (minutes) by airline\", xaxis_title = \"Month\", yaxis_title = \"SecurityDelay\")\n",
    "    \n",
    "    late_fig = px.line(avg_late, x = \"Month\", y = \"LateAircraftDelay\", color = \"Reporting_Airline\", title='Average aircraft delay time (minutes) by airline')\n",
    "    late_fig.update_layout(title = \"Average aircraft delay time (minutes) by airline\", xaxis_title = \"Month\", yaxis_title = \"LateAircraftDelay\")\n",
    "    \n",
    "    return [carrier_fig, weather_fig, nas_fig, sec_fig, late_fig]"
   ]
  },
  {
   "cell_type": "code",
   "execution_count": null,
   "id": "d7e54c89",
   "metadata": {},
   "outputs": [
    {
     "name": "stdout",
     "output_type": "stream",
     "text": [
      "Dash is running on http://127.0.0.1:8050/\n",
      "\n",
      " * Serving Flask app '__main__'\n",
      " * Debug mode: off\n"
     ]
    },
    {
     "name": "stderr",
     "output_type": "stream",
     "text": [
      "WARNING: This is a development server. Do not use it in a production deployment. Use a production WSGI server instead.\n",
      " * Running on http://127.0.0.1:8050\n",
      "Press CTRL+C to quit\n",
      "127.0.0.1 - - [22/Jun/2023 22:24:48] \"GET / HTTP/1.1\" 200 -\n",
      "127.0.0.1 - - [22/Jun/2023 22:24:48] \"GET /_dash-layout HTTP/1.1\" 200 -\n",
      "127.0.0.1 - - [22/Jun/2023 22:24:48] \"GET /_dash-dependencies HTTP/1.1\" 200 -\n",
      "127.0.0.1 - - [22/Jun/2023 22:24:48] \"GET /_dash-component-suites/dash/dcc/async-graph.js HTTP/1.1\" 304 -\n",
      "127.0.0.1 - - [22/Jun/2023 22:24:48] \"GET /_dash-component-suites/dash/dcc/async-plotlyjs.js HTTP/1.1\" 304 -\n",
      "127.0.0.1 - - [22/Jun/2023 22:24:48] \"GET /_favicon.ico?v=2.10.2 HTTP/1.1\" 200 -\n",
      "127.0.0.1 - - [22/Jun/2023 22:24:49] \"POST /_dash-update-component HTTP/1.1\" 200 -\n"
     ]
    }
   ],
   "source": [
    "app.run_server()"
   ]
  },
  {
   "cell_type": "code",
   "execution_count": null,
   "id": "fe9f7a08",
   "metadata": {},
   "outputs": [],
   "source": []
  }
 ],
 "metadata": {
  "kernelspec": {
   "display_name": "Python 3 (ipykernel)",
   "language": "python",
   "name": "python3"
  },
  "language_info": {
   "codemirror_mode": {
    "name": "ipython",
    "version": 3
   },
   "file_extension": ".py",
   "mimetype": "text/x-python",
   "name": "python",
   "nbconvert_exporter": "python",
   "pygments_lexer": "ipython3",
   "version": "3.11.2"
  }
 },
 "nbformat": 4,
 "nbformat_minor": 5
}
