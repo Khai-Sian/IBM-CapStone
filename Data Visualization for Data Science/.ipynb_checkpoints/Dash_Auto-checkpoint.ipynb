{
 "cells": [
  {
   "cell_type": "code",
   "execution_count": 1,
   "id": "37563192",
   "metadata": {},
   "outputs": [],
   "source": [
    "import pandas as pd\n",
    "import dash\n",
    "from dash import dcc\n",
    "from dash import html\n",
    "from dash.dependencies import Input, Output, State\n",
    "import plotly.graph_objects as go\n",
    "import plotly.express as px\n",
    "from dash import no_update"
   ]
  },
  {
   "cell_type": "code",
   "execution_count": 2,
   "id": "19e98f81",
   "metadata": {},
   "outputs": [],
   "source": [
    "app = dash.Dash()\n",
    "app.config.suppress_callback_exceptions = True"
   ]
  },
  {
   "cell_type": "code",
   "execution_count": 3,
   "id": "83ced7b1",
   "metadata": {},
   "outputs": [],
   "source": [
    "auto_data = pd.read_csv(\"https://cf-courses-data.s3.us.cloud-object-storage.appdomain.cloud/IBMDeveloperSkillsNetwork-DA0101EN-SkillsNetwork/labs/Data%20files/automobileEDA.csv\",\n",
    "                       encoding = \"ISO-8859-1\")"
   ]
  },
  {
   "cell_type": "code",
   "execution_count": 4,
   "id": "d53cd753",
   "metadata": {},
   "outputs": [],
   "source": [
    "app.layout = html.Div(children = [\n",
    "    html.H1(\"Car Automobine Components\",\n",
    "           style = {\"textAlign\": \"center\", \"color\": \"#503D36\", \"font-size\": 24}),\n",
    "    html.Div([html.Div(\n",
    "                    html.H2(\"Drive Wheels Type: \", style = {\"margin-right\": \"2em\"})\n",
    "            ),\n",
    "             dcc.Dropdown(id = \"demo-dropdown\",\n",
    "                         options = [{\"label\": \"Rear Wheel Drive\", \"value\": \"rwd\"},\n",
    "                                   {\"label\": \"Front Wheel Drive\", \"value\": \"fwd\"},\n",
    "                                   {\"label\": \"Four Wheel Drive\", \"value\": \"4wd\"}],\n",
    "                         value = \"rwd\")]),\n",
    "    html.Div([html.Div([], id = \"plot1\"),\n",
    "             html.Div([], id = \"plot2\")],\n",
    "             style = {\"display\": \"flex\"})\n",
    "])"
   ]
  },
  {
   "cell_type": "code",
   "execution_count": 5,
   "id": "75ca044a",
   "metadata": {},
   "outputs": [],
   "source": [
    "@app.callback([Output(component_id = \"plot1\", component_property = \"children\"),\n",
    "             Output(component_id = \"plot2\", component_property = \"children\")],\n",
    "             Input(component_id = \"demo-dropdown\", component_property = \"value\"))\n",
    "def display_selected_drive_charts(value):\n",
    "    filtered_df = auto_data[auto_data[\"drive-wheels\"] == value].groupby([\"drive-wheels\", \"body-style\"], as_index = False).mean()\n",
    "    \n",
    "    fig1 = px.pie(filtered_df, values = \"price\", names = \"body-style\", title = \"Pie Chart\")\n",
    "    fig2 = px.bar(filtered_df, x = \"body-style\", y = \"price\", color = \"drive-wheels\", title = \"Bar Chart\")\n",
    "    \n",
    "    return [dcc.Graph(figure = fig1), dcc.Graph(figure = fig2)]"
   ]
  },
  {
   "cell_type": "code",
   "execution_count": 6,
   "id": "9208c4e5",
   "metadata": {
    "scrolled": true
   },
   "outputs": [
    {
     "name": "stdout",
     "output_type": "stream",
     "text": [
      "Dash is running on http://127.0.0.1:8050/\n",
      "\n",
      " * Serving Flask app '__main__'\n",
      " * Debug mode: off\n"
     ]
    },
    {
     "name": "stderr",
     "output_type": "stream",
     "text": [
      "WARNING: This is a development server. Do not use it in a production deployment. Use a production WSGI server instead.\n",
      " * Running on http://127.0.0.1:8050\n",
      "Press CTRL+C to quit\n",
      "127.0.0.1 - - [25/Jun/2023 15:09:19] \"GET / HTTP/1.1\" 200 -\n",
      "127.0.0.1 - - [25/Jun/2023 15:09:19] \"GET /_dash-layout HTTP/1.1\" 200 -\n",
      "127.0.0.1 - - [25/Jun/2023 15:09:19] \"GET /_dash-dependencies HTTP/1.1\" 200 -\n",
      "127.0.0.1 - - [25/Jun/2023 15:09:19] \"GET /_dash-component-suites/dash/dcc/async-dropdown.js HTTP/1.1\" 304 -\n",
      "C:\\Users\\Kobby\\AppData\\Local\\Temp\\ipykernel_12596\\461415723.py:5: FutureWarning:\n",
      "\n",
      "The default value of numeric_only in DataFrameGroupBy.mean is deprecated. In a future version, numeric_only will default to False. Either specify numeric_only or select only columns which should be valid for the function.\n",
      "\n",
      "127.0.0.1 - - [25/Jun/2023 15:09:20] \"POST /_dash-update-component HTTP/1.1\" 200 -\n",
      "127.0.0.1 - - [25/Jun/2023 15:09:20] \"GET /_dash-component-suites/dash/dcc/async-graph.js HTTP/1.1\" 304 -\n",
      "127.0.0.1 - - [25/Jun/2023 15:09:20] \"GET /_dash-component-suites/dash/dcc/async-plotlyjs.js HTTP/1.1\" 304 -\n",
      "C:\\Users\\Kobby\\AppData\\Local\\Temp\\ipykernel_12596\\461415723.py:5: FutureWarning:\n",
      "\n",
      "The default value of numeric_only in DataFrameGroupBy.mean is deprecated. In a future version, numeric_only will default to False. Either specify numeric_only or select only columns which should be valid for the function.\n",
      "\n",
      "127.0.0.1 - - [25/Jun/2023 15:09:21] \"POST /_dash-update-component HTTP/1.1\" 200 -\n",
      "C:\\Users\\Kobby\\AppData\\Local\\Temp\\ipykernel_12596\\461415723.py:5: FutureWarning:\n",
      "\n",
      "The default value of numeric_only in DataFrameGroupBy.mean is deprecated. In a future version, numeric_only will default to False. Either specify numeric_only or select only columns which should be valid for the function.\n",
      "\n",
      "127.0.0.1 - - [25/Jun/2023 15:09:23] \"POST /_dash-update-component HTTP/1.1\" 200 -\n"
     ]
    }
   ],
   "source": [
    "app.run_server()"
   ]
  },
  {
   "cell_type": "code",
   "execution_count": null,
   "id": "aa276d9a",
   "metadata": {},
   "outputs": [],
   "source": []
  }
 ],
 "metadata": {
  "kernelspec": {
   "display_name": "Python 3 (ipykernel)",
   "language": "python",
   "name": "python3"
  },
  "language_info": {
   "codemirror_mode": {
    "name": "ipython",
    "version": 3
   },
   "file_extension": ".py",
   "mimetype": "text/x-python",
   "name": "python",
   "nbconvert_exporter": "python",
   "pygments_lexer": "ipython3",
   "version": "3.11.2"
  }
 },
 "nbformat": 4,
 "nbformat_minor": 5
}
