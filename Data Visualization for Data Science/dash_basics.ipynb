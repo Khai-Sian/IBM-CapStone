{
 "cells": [
  {
   "cell_type": "code",
   "execution_count": 1,
   "id": "33dd80df",
   "metadata": {},
   "outputs": [],
   "source": [
    "# Import required packages\n",
    "import pandas as pd\n",
    "import plotly.express as px\n",
    "import dash\n",
    "from dash import dcc\n",
    "from dash import html"
   ]
  },
  {
   "cell_type": "code",
   "execution_count": 2,
   "id": "1c437272",
   "metadata": {},
   "outputs": [],
   "source": [
    "# Read the airline data into pandas dataframe\n",
    "airline_data =  pd.read_csv('https://cf-courses-data.s3.us.cloud-object-storage.appdomain.cloud/IBMDeveloperSkillsNetwork-DV0101EN-SkillsNetwork/Data%20Files/airline_data.csv', \n",
    "                            encoding = \"ISO-8859-1\",\n",
    "                            dtype={'Div1Airport': str, 'Div1TailNum': str, \n",
    "                                   'Div2Airport': str, 'Div2TailNum': str})"
   ]
  },
  {
   "cell_type": "code",
   "execution_count": 3,
   "id": "6c9d05ce",
   "metadata": {},
   "outputs": [],
   "source": [
    "# Randomly sample 500 data points. Setting the random state to be 42 so that we get same result.\n",
    "data = airline_data.sample(n = 500, random_state = 42)"
   ]
  },
  {
   "cell_type": "code",
   "execution_count": 4,
   "id": "fe36a210",
   "metadata": {},
   "outputs": [],
   "source": [
    "# Pie Chart Creation\n",
    "fig = px.pie(data, values = \"Flights\", names = \"DistanceGroup\", title = \"Distance group proportion by flights\")"
   ]
  },
  {
   "cell_type": "code",
   "execution_count": 17,
   "id": "7b8d0451",
   "metadata": {},
   "outputs": [],
   "source": [
    "# Create a dash application\n",
    "app = dash.Dash(__name__)\n",
    "\n",
    "# Get the layout of the application and adjust it.\n",
    "# Create an outer division using html.Div and add title to the dashboard using html.H1 component\n",
    "# Add description about the graph using HTML P (paragraph) component\n",
    "# Finally, add graph component.\n",
    "app.layout = html.Div(children = [html.H1(\"Airline On-time Performance Dashboard\", \n",
    "                                         style = {\"textAlign\": \"center\",\n",
    "                                                 \"color\": \"#503D36\",\n",
    "                                                 \"font-size\": 50}),\n",
    "                                  html.P(\"Proportion of distance group (250 mile distance interval group) by flights.\",\n",
    "                                          style={'textAlign':'center', 'color': '#F57241'}),\n",
    "                                  dcc.Graph(figure = fig),\n",
    "    \n",
    "])"
   ]
  },
  {
   "cell_type": "code",
   "execution_count": 18,
   "id": "a576c448",
   "metadata": {},
   "outputs": [
    {
     "name": "stdout",
     "output_type": "stream",
     "text": [
      "Dash is running on http://127.0.0.1:8050/\n",
      "\n",
      " * Serving Flask app '__main__'\n",
      " * Debug mode: off\n"
     ]
    },
    {
     "name": "stderr",
     "output_type": "stream",
     "text": [
      "WARNING: This is a development server. Do not use it in a production deployment. Use a production WSGI server instead.\n",
      " * Running on http://127.0.0.1:8050\n",
      "Press CTRL+C to quit\n",
      "127.0.0.1 - - [22/Jun/2023 21:04:49] \"GET / HTTP/1.1\" 200 -\n",
      "127.0.0.1 - - [22/Jun/2023 21:04:49] \"GET /_dash-layout HTTP/1.1\" 200 -\n",
      "127.0.0.1 - - [22/Jun/2023 21:04:49] \"GET /_dash-dependencies HTTP/1.1\" 200 -\n",
      "127.0.0.1 - - [22/Jun/2023 21:04:49] \"GET /_dash-component-suites/dash/dcc/async-graph.js HTTP/1.1\" 304 -\n",
      "127.0.0.1 - - [22/Jun/2023 21:04:49] \"GET /_dash-component-suites/dash/dcc/async-plotlyjs.js HTTP/1.1\" 304 -\n"
     ]
    }
   ],
   "source": [
    "app.run_server()"
   ]
  },
  {
   "cell_type": "code",
   "execution_count": null,
   "id": "70faeff0",
   "metadata": {},
   "outputs": [],
   "source": []
  }
 ],
 "metadata": {
  "kernelspec": {
   "display_name": "Python 3 (ipykernel)",
   "language": "python",
   "name": "python3"
  },
  "language_info": {
   "codemirror_mode": {
    "name": "ipython",
    "version": 3
   },
   "file_extension": ".py",
   "mimetype": "text/x-python",
   "name": "python",
   "nbconvert_exporter": "python",
   "pygments_lexer": "ipython3",
   "version": "3.11.2"
  }
 },
 "nbformat": 4,
 "nbformat_minor": 5
}
