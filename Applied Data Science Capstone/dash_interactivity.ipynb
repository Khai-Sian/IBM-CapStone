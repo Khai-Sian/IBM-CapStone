{
 "cells": [
  {
   "cell_type": "code",
   "execution_count": 1,
   "id": "e9ed6d52",
   "metadata": {},
   "outputs": [],
   "source": [
    "# Import required libraries\n",
    "import pandas as pd\n",
    "import dash\n",
    "from dash import html\n",
    "from dash import dcc\n",
    "from dash.dependencies import Input, Output\n",
    "import plotly.express as px"
   ]
  },
  {
   "cell_type": "code",
   "execution_count": 2,
   "id": "b6747b24",
   "metadata": {},
   "outputs": [],
   "source": [
    "# Read the airline data into pandas dataframe\n",
    "spacex_df = pd.read_csv(\"https://cf-courses-data.s3.us.cloud-object-storage.appdomain.cloud/IBM-DS0321EN-SkillsNetwork/datasets/spacex_launch_dash.csv\")\n",
    "max_payload = spacex_df['Payload Mass (kg)'].max()\n",
    "min_payload = spacex_df['Payload Mass (kg)'].min()"
   ]
  },
  {
   "cell_type": "code",
   "execution_count": 3,
   "id": "d4e6b4ad",
   "metadata": {},
   "outputs": [
    {
     "data": {
      "text/plain": [
       "array(['CCAFS LC-40', 'VAFB SLC-4E', 'KSC LC-39A', 'CCAFS SLC-40'],\n",
       "      dtype=object)"
      ]
     },
     "execution_count": 3,
     "metadata": {},
     "output_type": "execute_result"
    }
   ],
   "source": [
    "spacex_df[\"Launch Site\"].unique()"
   ]
  },
  {
   "cell_type": "code",
   "execution_count": 4,
   "id": "d3038fd5",
   "metadata": {},
   "outputs": [],
   "source": [
    "# Create a dash application\n",
    "app = dash.Dash()"
   ]
  },
  {
   "cell_type": "code",
   "execution_count": 5,
   "id": "b3921722",
   "metadata": {},
   "outputs": [],
   "source": [
    "# Create an app layout\n",
    "app.layout = html.Div(children = [html.H1(\"SpaceX Launch Records Dashboard\",\n",
    "                                         style = {\"textAlign\": \"center\", \n",
    "                                                 \"color\": \"#503D36\",\n",
    "                                                 \"font-size\": 40}),\n",
    "                                  # TASK 1: Add a dropdown list to enable Launch Site selection\n",
    "                                  # The default select value is for ALL sites\n",
    "                                  # dcc.Dropdown(id='site-dropdown',...)\n",
    "                                  dcc.Dropdown(id = \"site-dropdown\",\n",
    "                                              options = [{\"label\": \"All Sites\", \"value\": \"All\"},\n",
    "                                                        {\"label\": \"CCAFS LC-40\", \"value\": \"CCAFS LC-40\"},\n",
    "                                                        {\"label\": \"VAFB SLC-4E\", \"value\": \"VAFB SLC-4E\"},\n",
    "                                                        {\"label\": \"KSC LC-39A\", \"value\": \"KSC LC-39A\"},\n",
    "                                                        {\"label\": \"CCAFS SLC-40\", \"value\": \"CCAFS SLC-40\"}],\n",
    "                                              value = \"All\",\n",
    "                                              placeholder = \"Select a Launch Site here\",\n",
    "                                              searchable = True),\n",
    "                                  html.Br(),\n",
    "                                  \n",
    "                                  # TASK 2: Add a pie chart to show the total successful launches count for all sites\n",
    "                                  # If a specific launch site was selected, show the Success vs. Failed counts for the site\n",
    "                                  html.Div(dcc.Graph(id='success-pie-chart')),\n",
    "                                  \n",
    "                                  html.P(\"Payload range (Kg):\"),\n",
    "                                  # TASK 3: Add a slider to select payload range\n",
    "                                  #dcc.RangeSlider(id='payload-slider',...)\n",
    "                                  dcc.RangeSlider(id = \"payload-slider\", \n",
    "                                                  min = min_payload, \n",
    "                                                  max = max_payload, \n",
    "                                                  step = 1000, \n",
    "                                                  value = [min_payload, max_payload]),\n",
    "                                  \n",
    "                                  \n",
    "                                  # TASK 4: Add a scatter chart to show the correlation between payload and launch success\n",
    "                                  html.Div(dcc.Graph(id='success-payload-scatter-chart'))\n",
    "])"
   ]
  },
  {
   "cell_type": "code",
   "execution_count": 6,
   "id": "527a99d9",
   "metadata": {},
   "outputs": [],
   "source": [
    "# TASK 2:\n",
    "# Add a callback function for `site-dropdown` as input, `success-pie-chart` as output\n",
    "@app.callback(Output(component_id='success-pie-chart', component_property='figure'),\n",
    "              Input(component_id='site-dropdown', component_property='value'))\n",
    "def create_pie_chart(value):\n",
    "    if value == \"All\":\n",
    "        df = spacex_df\n",
    "    else:\n",
    "        df = spacex_df[spacex_df[\"Launch Site\"] == value]\n",
    "        \n",
    "    df = df.groupby(\"class\").size().reset_index(name = \"class count\")\n",
    "        \n",
    "    fig = px.pie(df, values = \"class count\", names = \"class\", title = \"Total success launched for selected sites\")\n",
    "    return fig"
   ]
  },
  {
   "cell_type": "code",
   "execution_count": 7,
   "id": "dee5d579",
   "metadata": {},
   "outputs": [],
   "source": [
    "value = \"All\"\n",
    "if value == \"All\":\n",
    "    df = spacex_df\n",
    "else:\n",
    "    df = spacex_df[spacex_df[\"Launch Site\"] == value]\n",
    "\n",
    "df = df.groupby(\"class\").size().reset_index(name = \"class count\")\n",
    "# df = df.groupby(\"Launch Site\").mean().reset_index()\n",
    "\n",
    "fig = px.pie(df, values = \"class count\", names = \"class\", title = \"Total success launched for selected sites\")\n",
    "# fig = px.pie(df, values = \"class\", names = \"Launch Site\", title = \"Total success launched for selected sites\")\n",
    "# fig.show()"
   ]
  },
  {
   "cell_type": "code",
   "execution_count": 8,
   "id": "49aea977",
   "metadata": {},
   "outputs": [],
   "source": [
    "# TASK 4:\n",
    "# Add a callback function for `site-dropdown` and `payload-slider` as inputs, `success-payload-scatter-chart` as output\n",
    "@app.callback(Output(component_id='success-payload-scatter-chart', component_property='figure'),\n",
    "              [Input(component_id='site-dropdown', component_property='value'),\n",
    "               Input(component_id='payload-slider', component_property='value')])\n",
    "def create_scatter_plot(site, payload):\n",
    "    mini, maxi = payload\n",
    "    payload_range = (spacex_df[\"Payload Mass (kg)\"] >= mini) & (spacex_df[\"Payload Mass (kg)\"] <= maxi)\n",
    "    df = spacex_df[payload_range]\n",
    "    \n",
    "    if value == \"All\":\n",
    "        df = df\n",
    "    else:\n",
    "        df = df[spacex_df[\"Launch Site\"] == value]\n",
    "            \n",
    "    fig = px.scatter(df, x = \"Payload Mass (kg)\", y = \"class\", color = \"Booster Version Category\")\n",
    "    return fig"
   ]
  },
  {
   "cell_type": "code",
   "execution_count": 9,
   "id": "58a1551a",
   "metadata": {},
   "outputs": [],
   "source": [
    "mini, maxi = 0, 10000\n",
    "payload_range = (spacex_df[\"Payload Mass (kg)\"] >= mini) & (spacex_df[\"Payload Mass (kg)\"] <= maxi)\n",
    "df = spacex_df[payload_range]\n",
    "\n",
    "if value == \"All\":\n",
    "    df = df\n",
    "else:\n",
    "    df = df[spacex_df[\"Launch Site\"] == value]\n",
    "\n",
    "fig = px.scatter(df, x = \"Payload Mass (kg)\", y = \"class\", color = \"Booster Version Category\")\n",
    "# fig.show()"
   ]
  },
  {
   "cell_type": "code",
   "execution_count": null,
   "id": "dbd0a13c",
   "metadata": {},
   "outputs": [
    {
     "name": "stdout",
     "output_type": "stream",
     "text": [
      "Dash is running on http://127.0.0.1:8050/\n",
      "\n",
      " * Serving Flask app '__main__'\n",
      " * Debug mode: off\n"
     ]
    },
    {
     "name": "stderr",
     "output_type": "stream",
     "text": [
      "WARNING: This is a development server. Do not use it in a production deployment. Use a production WSGI server instead.\n",
      " * Running on http://127.0.0.1:8050\n",
      "Press CTRL+C to quit\n",
      "127.0.0.1 - - [09/Jul/2023 14:10:05] \"GET / HTTP/1.1\" 200 -\n",
      "127.0.0.1 - - [09/Jul/2023 14:10:05] \"GET /_dash-layout HTTP/1.1\" 200 -\n",
      "127.0.0.1 - - [09/Jul/2023 14:10:05] \"GET /_dash-dependencies HTTP/1.1\" 200 -\n",
      "127.0.0.1 - - [09/Jul/2023 14:10:05] \"GET /_dash-component-suites/dash/dcc/async-dropdown.js HTTP/1.1\" 304 -\n",
      "127.0.0.1 - - [09/Jul/2023 14:10:05] \"GET /_dash-component-suites/dash/dcc/async-graph.js HTTP/1.1\" 304 -\n",
      "127.0.0.1 - - [09/Jul/2023 14:10:05] \"GET /_dash-component-suites/dash/dcc/async-plotlyjs.js HTTP/1.1\" 304 -\n",
      "127.0.0.1 - - [09/Jul/2023 14:10:05] \"GET /_dash-component-suites/dash/dcc/async-slider.js HTTP/1.1\" 304 -\n",
      "127.0.0.1 - - [09/Jul/2023 14:10:05] \"POST /_dash-update-component HTTP/1.1\" 200 -\n",
      "127.0.0.1 - - [09/Jul/2023 14:10:05] \"POST /_dash-update-component HTTP/1.1\" 200 -\n",
      "127.0.0.1 - - [09/Jul/2023 14:10:07] \"POST /_dash-update-component HTTP/1.1\" 200 -\n",
      "127.0.0.1 - - [09/Jul/2023 14:10:07] \"POST /_dash-update-component HTTP/1.1\" 200 -\n",
      "127.0.0.1 - - [09/Jul/2023 14:10:09] \"POST /_dash-update-component HTTP/1.1\" 200 -\n",
      "127.0.0.1 - - [09/Jul/2023 14:10:09] \"POST /_dash-update-component HTTP/1.1\" 200 -\n",
      "127.0.0.1 - - [09/Jul/2023 14:10:11] \"POST /_dash-update-component HTTP/1.1\" 200 -\n",
      "127.0.0.1 - - [09/Jul/2023 14:10:11] \"POST /_dash-update-component HTTP/1.1\" 200 -\n",
      "127.0.0.1 - - [09/Jul/2023 14:10:12] \"POST /_dash-update-component HTTP/1.1\" 200 -\n",
      "127.0.0.1 - - [09/Jul/2023 14:10:12] \"POST /_dash-update-component HTTP/1.1\" 200 -\n",
      "127.0.0.1 - - [09/Jul/2023 14:10:14] \"POST /_dash-update-component HTTP/1.1\" 200 -\n",
      "127.0.0.1 - - [09/Jul/2023 14:10:14] \"POST /_dash-update-component HTTP/1.1\" 200 -\n",
      "127.0.0.1 - - [09/Jul/2023 14:10:19] \"POST /_dash-update-component HTTP/1.1\" 200 -\n",
      "127.0.0.1 - - [09/Jul/2023 14:10:19] \"POST /_dash-update-component HTTP/1.1\" 200 -\n",
      "127.0.0.1 - - [09/Jul/2023 14:10:23] \"POST /_dash-update-component HTTP/1.1\" 200 -\n",
      "127.0.0.1 - - [09/Jul/2023 14:10:23] \"POST /_dash-update-component HTTP/1.1\" 200 -\n",
      "127.0.0.1 - - [09/Jul/2023 14:10:28] \"POST /_dash-update-component HTTP/1.1\" 200 -\n",
      "127.0.0.1 - - [09/Jul/2023 14:10:28] \"POST /_dash-update-component HTTP/1.1\" 200 -\n",
      "127.0.0.1 - - [09/Jul/2023 14:15:20] \"POST /_dash-update-component HTTP/1.1\" 200 -\n",
      "127.0.0.1 - - [09/Jul/2023 14:15:20] \"POST /_dash-update-component HTTP/1.1\" 200 -\n",
      "127.0.0.1 - - [09/Jul/2023 14:19:18] \"POST /_dash-update-component HTTP/1.1\" 200 -\n",
      "127.0.0.1 - - [09/Jul/2023 14:19:20] \"POST /_dash-update-component HTTP/1.1\" 200 -\n",
      "127.0.0.1 - - [09/Jul/2023 14:19:23] \"POST /_dash-update-component HTTP/1.1\" 200 -\n",
      "127.0.0.1 - - [09/Jul/2023 14:19:57] \"POST /_dash-update-component HTTP/1.1\" 200 -\n",
      "127.0.0.1 - - [09/Jul/2023 14:21:09] \"POST /_dash-update-component HTTP/1.1\" 200 -\n",
      "127.0.0.1 - - [09/Jul/2023 14:21:13] \"POST /_dash-update-component HTTP/1.1\" 200 -\n",
      "127.0.0.1 - - [09/Jul/2023 14:21:14] \"POST /_dash-update-component HTTP/1.1\" 200 -\n",
      "127.0.0.1 - - [09/Jul/2023 14:21:20] \"POST /_dash-update-component HTTP/1.1\" 200 -\n",
      "127.0.0.1 - - [09/Jul/2023 14:22:22] \"POST /_dash-update-component HTTP/1.1\" 200 -\n",
      "127.0.0.1 - - [09/Jul/2023 14:32:38] \"POST /_dash-update-component HTTP/1.1\" 200 -\n",
      "127.0.0.1 - - [09/Jul/2023 14:32:40] \"POST /_dash-update-component HTTP/1.1\" 200 -\n"
     ]
    }
   ],
   "source": [
    "app.run_server()"
   ]
  },
  {
   "cell_type": "code",
   "execution_count": null,
   "id": "80761017",
   "metadata": {},
   "outputs": [],
   "source": []
  }
 ],
 "metadata": {
  "kernelspec": {
   "display_name": "Python 3 (ipykernel)",
   "language": "python",
   "name": "python3"
  },
  "language_info": {
   "codemirror_mode": {
    "name": "ipython",
    "version": 3
   },
   "file_extension": ".py",
   "mimetype": "text/x-python",
   "name": "python",
   "nbconvert_exporter": "python",
   "pygments_lexer": "ipython3",
   "version": "3.11.2"
  }
 },
 "nbformat": 4,
 "nbformat_minor": 5
}
